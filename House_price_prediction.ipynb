{
 "cells": [
  {
   "cell_type": "code",
   "execution_count": 1,
   "id": "006fc68f",
   "metadata": {},
   "outputs": [],
   "source": [
    "import pandas as pd\n",
    "import numpy as np\n",
    "import matplotlib.pyplot as plt"
   ]
  },
  {
   "cell_type": "code",
   "execution_count": 2,
   "id": "d43cf874",
   "metadata": {},
   "outputs": [],
   "source": [
    "df = pd.read_excel(\"hemnet_clean.xlsx\")"
   ]
  },
  {
   "cell_type": "markdown",
   "id": "c23a65c3",
   "metadata": {},
   "source": [
    "## Create X and y and Split"
   ]
  },
  {
   "cell_type": "code",
   "execution_count": 3,
   "id": "a04c7973",
   "metadata": {},
   "outputs": [],
   "source": [
    "target_col = \"price_sold\""
   ]
  },
  {
   "cell_type": "code",
   "execution_count": 4,
   "id": "39722d14",
   "metadata": {},
   "outputs": [],
   "source": [
    "X = df.drop(target_col, axis = 1)\n",
    "\n",
    "y = df[target_col]"
   ]
  },
  {
   "cell_type": "code",
   "execution_count": 5,
   "id": "fde9a833",
   "metadata": {},
   "outputs": [],
   "source": [
    "from sklearn.model_selection import train_test_split\n",
    "\n",
    "# This order matters\n",
    "X_train, X_test, y_train, y_test = train_test_split(X,y, test_size = 0.20)"
   ]
  },
  {
   "cell_type": "markdown",
   "id": "1b468aec",
   "metadata": {},
   "source": [
    "## Train Model"
   ]
  },
  {
   "cell_type": "code",
   "execution_count": 6,
   "id": "db3ae6cf",
   "metadata": {},
   "outputs": [],
   "source": [
    "from sklearn.ensemble import RandomForestRegressor\n",
    "regressor = RandomForestRegressor(n_estimators=10,random_state=0) \n",
    "model = regressor.fit(X_train, y_train)"
   ]
  },
  {
   "cell_type": "markdown",
   "id": "087e512c",
   "metadata": {},
   "source": [
    "### Make The prediction with train model"
   ]
  },
  {
   "cell_type": "code",
   "execution_count": 7,
   "id": "02f26535",
   "metadata": {},
   "outputs": [],
   "source": [
    "arr = model.predict(X_test)"
   ]
  },
  {
   "cell_type": "markdown",
   "id": "4ea8ff9a",
   "metadata": {},
   "source": [
    "## Data clean to DF"
   ]
  },
  {
   "cell_type": "code",
   "execution_count": 8,
   "id": "a7f62748",
   "metadata": {},
   "outputs": [],
   "source": [
    "series = pd.Series(arr) "
   ]
  },
  {
   "cell_type": "code",
   "execution_count": 9,
   "id": "0a32f56e",
   "metadata": {},
   "outputs": [],
   "source": [
    "df = pd.DataFrame(series)"
   ]
  },
  {
   "cell_type": "code",
   "execution_count": 10,
   "id": "8c8e1f74",
   "metadata": {},
   "outputs": [],
   "source": [
    "ser = y_test.to_frame()"
   ]
  },
  {
   "cell_type": "code",
   "execution_count": 11,
   "id": "e8db458b",
   "metadata": {},
   "outputs": [],
   "source": [
    "ser = ser.reset_index().drop(columns = \"index\")"
   ]
  },
  {
   "cell_type": "code",
   "execution_count": 12,
   "id": "30e95a43",
   "metadata": {},
   "outputs": [],
   "source": [
    "df[\"Real Price\"] = ser"
   ]
  },
  {
   "cell_type": "code",
   "execution_count": 13,
   "id": "9a8eeace",
   "metadata": {},
   "outputs": [],
   "source": [
    "df = df.rename(columns = {0:\"Price Prediction\"})"
   ]
  },
  {
   "cell_type": "code",
   "execution_count": 14,
   "id": "f691d53d",
   "metadata": {},
   "outputs": [],
   "source": [
    "df[\"Price Prediction\"] = df[\"Price Prediction\"].astype(\"int\")"
   ]
  },
  {
   "cell_type": "code",
   "execution_count": 15,
   "id": "23caa548",
   "metadata": {},
   "outputs": [
    {
     "data": {
      "text/html": [
       "<div>\n",
       "<style scoped>\n",
       "    .dataframe tbody tr th:only-of-type {\n",
       "        vertical-align: middle;\n",
       "    }\n",
       "\n",
       "    .dataframe tbody tr th {\n",
       "        vertical-align: top;\n",
       "    }\n",
       "\n",
       "    .dataframe thead th {\n",
       "        text-align: right;\n",
       "    }\n",
       "</style>\n",
       "<table border=\"1\" class=\"dataframe\">\n",
       "  <thead>\n",
       "    <tr style=\"text-align: right;\">\n",
       "      <th></th>\n",
       "      <th>Price Prediction</th>\n",
       "      <th>Real Price</th>\n",
       "    </tr>\n",
       "  </thead>\n",
       "  <tbody>\n",
       "    <tr>\n",
       "      <th>0</th>\n",
       "      <td>3453500</td>\n",
       "      <td>3620000</td>\n",
       "    </tr>\n",
       "    <tr>\n",
       "      <th>1</th>\n",
       "      <td>3555000</td>\n",
       "      <td>2740000</td>\n",
       "    </tr>\n",
       "    <tr>\n",
       "      <th>2</th>\n",
       "      <td>2805500</td>\n",
       "      <td>2875000</td>\n",
       "    </tr>\n",
       "    <tr>\n",
       "      <th>3</th>\n",
       "      <td>3919000</td>\n",
       "      <td>3100000</td>\n",
       "    </tr>\n",
       "    <tr>\n",
       "      <th>4</th>\n",
       "      <td>5692000</td>\n",
       "      <td>6250000</td>\n",
       "    </tr>\n",
       "    <tr>\n",
       "      <th>...</th>\n",
       "      <td>...</td>\n",
       "      <td>...</td>\n",
       "    </tr>\n",
       "    <tr>\n",
       "      <th>3221</th>\n",
       "      <td>4325000</td>\n",
       "      <td>3680000</td>\n",
       "    </tr>\n",
       "    <tr>\n",
       "      <th>3222</th>\n",
       "      <td>3726200</td>\n",
       "      <td>3275000</td>\n",
       "    </tr>\n",
       "    <tr>\n",
       "      <th>3223</th>\n",
       "      <td>2553600</td>\n",
       "      <td>2400000</td>\n",
       "    </tr>\n",
       "    <tr>\n",
       "      <th>3224</th>\n",
       "      <td>6166000</td>\n",
       "      <td>4585000</td>\n",
       "    </tr>\n",
       "    <tr>\n",
       "      <th>3225</th>\n",
       "      <td>2846000</td>\n",
       "      <td>3000000</td>\n",
       "    </tr>\n",
       "  </tbody>\n",
       "</table>\n",
       "<p>3226 rows × 2 columns</p>\n",
       "</div>"
      ],
      "text/plain": [
       "      Price Prediction  Real Price\n",
       "0              3453500     3620000\n",
       "1              3555000     2740000\n",
       "2              2805500     2875000\n",
       "3              3919000     3100000\n",
       "4              5692000     6250000\n",
       "...                ...         ...\n",
       "3221           4325000     3680000\n",
       "3222           3726200     3275000\n",
       "3223           2553600     2400000\n",
       "3224           6166000     4585000\n",
       "3225           2846000     3000000\n",
       "\n",
       "[3226 rows x 2 columns]"
      ]
     },
     "execution_count": 15,
     "metadata": {},
     "output_type": "execute_result"
    }
   ],
   "source": [
    "df"
   ]
  },
  {
   "cell_type": "markdown",
   "id": "009da36b",
   "metadata": {},
   "source": [
    "## Evaluation\n"
   ]
  },
  {
   "cell_type": "code",
   "execution_count": 149,
   "id": "c6343911",
   "metadata": {},
   "outputs": [
    {
     "name": "stdout",
     "output_type": "stream",
     "text": [
      "Mean Relative Error: 0.12\n",
      "Mean Absolute Error (MAE): 614797.778983261\n",
      "Mean Squared Error (MSE): 863261299251.6389\n",
      "Root Mean Squared Error (RMSE): 929118.5603848622\n",
      "Mean Absolute Percentage Error (MAPE): 0.12207022378001191\n",
      "Explained Variance Score: 0.8600778202541549\n",
      "Max Error: 6852500\n",
      "Mean Squared Log Error: 0.025133347882733626\n",
      "Median Absolute Error: 395250.0\n",
      "R^2: 0.8599944185943897\n",
      "Mean Poisson Deviance: 132919.27274561248\n",
      "Mean Gamma Deviance: 0.024784789928055582\n"
     ]
    }
   ],
   "source": [
    "from sklearn import metrics\n",
    "\n",
    "errors = abs((arr - y_test)/y_test)\n",
    "print('Mean Relative Error:', round(np.mean(errors), 2))\n",
    "print('Mean Absolute Error (MAE):', metrics.mean_absolute_error(df[\"Real Price\"], df[\"Price Prediction\"]))\n",
    "print('Mean Squared Error (MSE):', metrics.mean_squared_error(df[\"Real Price\"], df[\"Price Prediction\"]))\n",
    "print('Root Mean Squared Error (RMSE):', metrics.mean_squared_error(df[\"Real Price\"], df[\"Price Prediction\"], squared=False))\n",
    "print('Mean Absolute Percentage Error (MAPE):', metrics.mean_absolute_percentage_error(df[\"Real Price\"], df[\"Price Prediction\"]))\n",
    "print('Explained Variance Score:', metrics.explained_variance_score(df[\"Real Price\"], df[\"Price Prediction\"]))\n",
    "print('Max Error:', metrics.max_error(df[\"Real Price\"], df[\"Price Prediction\"]))\n",
    "print('Mean Squared Log Error:', metrics.mean_squared_log_error(df[\"Real Price\"], df[\"Price Prediction\"]))\n",
    "print('Median Absolute Error:', metrics.median_absolute_error(df[\"Real Price\"], df[\"Price Prediction\"]))\n",
    "print('R^2:', metrics.r2_score(df[\"Real Price\"], df[\"Price Prediction\"]))\n",
    "print('Mean Poisson Deviance:', metrics.mean_poisson_deviance(df[\"Real Price\"], df[\"Price Prediction\"]))\n",
    "print('Mean Gamma Deviance:', metrics.mean_gamma_deviance(df[\"Real Price\"], df[\"Price Prediction\"]))"
   ]
  },
  {
   "cell_type": "code",
   "execution_count": 98,
   "id": "3bdc626b",
   "metadata": {},
   "outputs": [
    {
     "data": {
      "image/png": "[encoded data removed]",
      "text/plain": [
       "<Figure size 432x288 with 1 Axes>"
      ]
     },
     "metadata": {},
     "output_type": "display_data"
    }
   ],
   "source": [
    "import matplotlib.pyplot as plt\n",
    "\n",
    "fig, ax = plt.subplots()\n",
    "\n",
    "ax.hist(df, bins=20, density=True)\n",
    "#ax.axvline(df[\"Real Price\"], ls=\"--\", color=\"r\")\n",
    "#score_label = f\"Score on original\\ndata: {df[\"Real Price\"]:.2f}\\n(p-value: {pvalue_iris:.3f})\"\n",
    "#ax.text(0.7, 10, score_label, fontsize=12)\n",
    "ax.set_xlabel(\"Accuracy score\")\n",
    "_ = ax.set_ylabel(\"Probability\")"
   ]
  },
  {
   "cell_type": "code",
   "execution_count": 151,
   "id": "370dec69",
   "metadata": {},
   "outputs": [
    {
     "data": {
      "image/png": "[encoded data removed]",
      "text/plain": [
       "<Figure size 432x288 with 1 Axes>"
      ]
     },
     "metadata": {},
     "output_type": "display_data"
    }
   ],
   "source": [
    "from sklearn.decomposition import PCA\n",
    "pca = PCA(2)\n",
    "pca.fit(df)\n",
    "res=pd.DataFrame(pca.transform(df))\n",
    "Z = np.array(res)\n",
    "plt.title(\"IsolationForest\")\n",
    "plt.contourf( Z, cmap=plt.cm.Blues_r)\n",
    "b1 = plt.scatter(res[0], res[1], c='green',\n",
    "                 s=20,label=\"normal points\")\n",
    "b1 =plt.scatter(res[0],res[1], c='green',s=20,  edgecolor=\"red\",label=\"predicted outliers\")\n",
    "plt.legend(loc=\"upper right\")\n",
    "plt.show()"
   ]
  },
  {
   "cell_type": "code",
   "execution_count": 16,
   "id": "7d8fc51c",
   "metadata": {},
   "outputs": [
    {
     "data": {
      "image/png": "[encoded data removed]",
      "text/plain": [
       "<Figure size 432x288 with 1 Axes>"
      ]
     },
     "metadata": {
      "needs_background": "light"
     },
     "output_type": "display_data"
    }
   ],
   "source": [
    "plt.scatter(df.iloc[:,0],df.iloc[:,1], c='green',  edgecolor=\"red\",label=\"predicted outliers\");"
   ]
  }
 ],
 "metadata": {
  "kernelspec": {
   "display_name": "Python 3",
   "language": "python",
   "name": "python3"
  },
  "language_info": {
   "codemirror_mode": {
    "name": "ipython",
    "version": 3
   },
   "file_extension": ".py",
   "mimetype": "text/x-python",
   "name": "python",
   "nbconvert_exporter": "python",
   "pygments_lexer": "ipython3",
   "version": "3.8.10"
  },
  "toc": {
   "base_numbering": 1,
   "nav_menu": {},
   "number_sections": false,
   "sideBar": true,
   "skip_h1_title": false,
   "title_cell": "Table of Contents",
   "title_sidebar": "Contents",
   "toc_cell": false,
   "toc_position": {},
   "toc_section_display": true,
   "toc_window_display": false
  }
 },
 "nbformat": 4,
 "nbformat_minor": 5
}
